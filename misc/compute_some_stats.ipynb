{
 "cells": [
  {
   "cell_type": "markdown",
   "metadata": {},
   "source": [
    "# Compute stats for paper (Table 1)."
   ]
  },
  {
   "cell_type": "code",
   "execution_count": 1,
   "metadata": {},
   "outputs": [],
   "source": [
    "import sys\n",
    "sys.path.append(\"..\")  # HACK: needed to import generic.py."
   ]
  },
  {
   "cell_type": "code",
   "execution_count": 2,
   "metadata": {},
   "outputs": [],
   "source": [
    "import glob\n",
    "import itertools\n",
    "from pprint import pprint\n",
    "\n",
    "import textworld\n",
    "from textworld import Game\n",
    "\n",
    "from generic import process_fully_obs_facts, serialize_facts"
   ]
  },
  {
   "cell_type": "code",
   "execution_count": 4,
   "metadata": {},
   "outputs": [
    {
     "output_type": "stream",
     "name": "stdout",
     "text": [
      "1.\tGraphs Density: 1.5%\tNodes/Objects: 15.9\tAction Candidates: 8.0\n",
      "2.\tGraphs Density: 1.4%\tNodes/Objects: 16.7\tAction Candidates: 8.9\n",
      "3.\tGraphs Density: 1.3%\tNodes/Objects: 17.1\tAction Candidates: 11.5\n",
      "4.\tGraphs Density: 0.6%\tNodes/Objects: 24.8\tAction Candidates: 7.6\n",
      "5.\tGraphs Density: 0.4%\tNodes/Objects: 34.1\tAction Candidates: 7.2\n",
      "6.\tGraphs Density: 0.4%\tNodes/Objects: 40.4\tAction Candidates: 6.6\n",
      "7.\tGraphs Density: 1.3%\tNodes/Objects: 17.5\tAction Candidates: 11.8\n",
      "8.\tGraphs Density: 0.5%\tNodes/Objects: 31.0\tAction Candidates: 13.8\n",
      "9.\tGraphs Density: 0.5%\tNodes/Objects: 33.4\tAction Candidates: 28.4\n",
      "10.\tGraphs Density: 0.3%\tNodes/Objects: 49.5\tAction Candidates: 20.2\n"
     ]
    }
   ],
   "source": [
    "\n",
    "def filter_commands(commands):\n",
    "    \"\"\" Filter out commands not needed for this project. \"\"\"\n",
    "    filtered_commands = []\n",
    "    for cmd in commands:\n",
    "        verb = cmd.split()[0]\n",
    "        if cmd == \"examine cookbook\" or verb not in [\"examine\", \"look\"]:\n",
    "            filtered_commands.append(cmd)\n",
    "\n",
    "    return filtered_commands\n",
    "\n",
    "\n",
    "def get_stats(gamefile):\n",
    "    \"\"\" Compute different statistics about the games for each difficulty.\n",
    "\n",
    "    Here are the statistics that get computes:\n",
    "        - Average graph densities.abs\n",
    "        - Average nodes in the graph\n",
    "        - Average number of action candidates at each step along the walkthrough.\n",
    "    \n",
    "    Notes\n",
    "    -----\n",
    "        The formula used to compute the graph density is\n",
    "        D = |E| / ( |R| * |V| * (|V|-1) )\n",
    "    \"\"\"\n",
    "    env_infos = textworld.EnvInfos(facts=True, game=True, max_score=True, \n",
    "                                   admissible_commands=True, extras=[\"walkthrough\"])\n",
    "    env = textworld.start(gamefile, env_infos)\n",
    "    infos = env.reset()\n",
    "\n",
    "    facts = process_fully_obs_facts(infos[\"game\"], infos[\"facts\"])\n",
    "    triplets = serialize_facts(facts)\n",
    "\n",
    "    nodes = sorted(set(e for t in triplets for e in t[:2]))\n",
    "    relations = sorted(set(t[-1] for t in triplets))\n",
    "    density = len(triplets)/(len(relations)*len(nodes)*(len(nodes)-1))\n",
    "    \n",
    "    # Average actions candidates.\n",
    "    candidates = [len(filter_commands(infos[\"admissible_commands\"]))]\n",
    "    for cmd in infos[\"extra.walkthrough\"]:\n",
    "        infos, score, done = env.step(cmd)\n",
    "        candidates.append(len(filter_commands(infos[\"admissible_commands\"])))\n",
    "    \n",
    "    assert score == infos[\"max_score\"]\n",
    "    assert done\n",
    "    \n",
    "    return density, len(nodes), candidates\n",
    "\n",
    "def get_densities_and_nb_nodes(gamefiles):\n",
    "    densities, nb_nodes, nb_candidates = zip(*[get_stats(f) for f in gamefiles])\n",
    "    nb_candidates = list(itertools.chain(*nb_candidates))\n",
    "    return densities, nb_nodes, nb_candidates\n",
    "\n",
    "\n",
    "for i in range(1, 10 + 1):\n",
    "    densities, nb_nodes, nb_candidates = [], [], []\n",
    "    for subset in [\"train_100\", \"valid\", \"test\"]:\n",
    "        gamefiles = glob.glob(\"../rl.0.2/{}/difficulty_level_{}/*z8\".format(subset, i))\n",
    "        densities_, nb_nodes_, nb_candidates_ = get_densities_and_nb_nodes(gamefiles)\n",
    "        densities += densities_\n",
    "        nb_nodes += nb_nodes_\n",
    "        nb_candidates += nb_candidates_\n",
    "    \n",
    "    avg_density = sum(densities) / len(densities)\n",
    "    avg_nb_nodes = sum(nb_nodes) / len(nb_nodes)\n",
    "    avg_nb_candidates = sum(nb_candidates) / len(nb_candidates)\n",
    "    print(\"{}.\\tGraphs Density: {:.1%}\\tNodes/Objects: {:.1f}\\tAction Candidates: {:.1f}\".format(i, avg_density, avg_nb_nodes, avg_nb_candidates))"
   ]
  },
  {
   "cell_type": "code",
   "execution_count": null,
   "metadata": {},
   "outputs": [],
   "source": []
  }
 ],
 "metadata": {
  "kernelspec": {
   "name": "python373jvsc74a57bd0be03b6b6ec1a0d77f93ae5cb8161113c0891e073d6fef18981bbbd9f7633546d",
   "display_name": "Python 3.7.3 64-bit ('maluuba3': conda)"
  },
  "language_info": {
   "codemirror_mode": {
    "name": "ipython",
    "version": 3
   },
   "file_extension": ".py",
   "mimetype": "text/x-python",
   "name": "python",
   "nbconvert_exporter": "python",
   "pygments_lexer": "ipython3",
   "version": "3.7.3"
  }
 },
 "nbformat": 4,
 "nbformat_minor": 2
}